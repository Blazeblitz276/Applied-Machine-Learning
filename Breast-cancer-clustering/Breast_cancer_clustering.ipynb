{
 "cells": [
  {
   "cell_type": "code",
   "execution_count": null,
   "metadata": {},
   "outputs": [],
   "source": [
    "# Breast Cancer Clustering"
   ]
  },
  {
   "cell_type": "markdown",
   "metadata": {},
   "source": [
    "### Key Points\n",
    "\n",
    "**K-Means Clustering Implementation:** Implement K-Means clustering from scratch.\n",
    "\n",
    "**Data Loading and Preprocessing:** Load the dataset and preprocess it.\n",
    "\n",
    "**Clustering without Labels:** Perform clustering without using class labels and evaluate accuracy.\n",
    "\n",
    "**Multiple Runs Analysis:** Analyze results with different initial centers.\n",
    "\n",
    "**Supervised Method Comparison:** Compare results with a supervised method like Logistic Regression."
   ]
  },
  {
   "cell_type": "code",
   "execution_count": null,
   "metadata": {},
   "outputs": [],
   "source": [
    "import numpy as np\n",
    "import pandas as pd\n",
    "import matplotlib.pyplot as plt"
   ]
  },
  {
   "cell_type": "markdown",
   "metadata": {},
   "source": [
    "# Reading the Data"
   ]
  },
  {
   "cell_type": "markdown",
   "metadata": {},
   "source": [
    "Since dataset is missing columns arbitrary columns are added"
   ]
  },
  {
   "cell_type": "code",
   "execution_count": null,
   "metadata": {},
   "outputs": [],
   "source": [
    "columns = ['id','f1','f2','f3','f4','f5','f6','f7','f8','f9','label']"
   ]
  },
  {
   "cell_type": "code",
   "execution_count": null,
   "metadata": {},
   "outputs": [],
   "source": [
    "cancer_data = pd.read_csv('/data/breast-cancer-wisconsin.data', names = columns)"
   ]
  },
  {
   "cell_type": "code",
   "execution_count": null,
   "metadata": {},
   "outputs": [
    {
     "data": {
      "text/html": [
       "\n",
       "  <div id=\"df-6e709b78-2a70-4a4b-b456-7e9cd37c0bd4\">\n",
       "    <div class=\"colab-df-container\">\n",
       "      <div>\n",
       "<style scoped>\n",
       "    .dataframe tbody tr th:only-of-type {\n",
       "        vertical-align: middle;\n",
       "    }\n",
       "\n",
       "    .dataframe tbody tr th {\n",
       "        vertical-align: top;\n",
       "    }\n",
       "\n",
       "    .dataframe thead th {\n",
       "        text-align: right;\n",
       "    }\n",
       "</style>\n",
       "<table border=\"1\" class=\"dataframe\">\n",
       "  <thead>\n",
       "    <tr style=\"text-align: right;\">\n",
       "      <th></th>\n",
       "      <th>id</th>\n",
       "      <th>f1</th>\n",
       "      <th>f2</th>\n",
       "      <th>f3</th>\n",
       "      <th>f4</th>\n",
       "      <th>f5</th>\n",
       "      <th>f6</th>\n",
       "      <th>f7</th>\n",
       "      <th>f8</th>\n",
       "      <th>f9</th>\n",
       "      <th>label</th>\n",
       "    </tr>\n",
       "  </thead>\n",
       "  <tbody>\n",
       "    <tr>\n",
       "      <th>0</th>\n",
       "      <td>1000025</td>\n",
       "      <td>5</td>\n",
       "      <td>1</td>\n",
       "      <td>1</td>\n",
       "      <td>1</td>\n",
       "      <td>2</td>\n",
       "      <td>1</td>\n",
       "      <td>3</td>\n",
       "      <td>1</td>\n",
       "      <td>1</td>\n",
       "      <td>2</td>\n",
       "    </tr>\n",
       "    <tr>\n",
       "      <th>1</th>\n",
       "      <td>1002945</td>\n",
       "      <td>5</td>\n",
       "      <td>4</td>\n",
       "      <td>4</td>\n",
       "      <td>5</td>\n",
       "      <td>7</td>\n",
       "      <td>10</td>\n",
       "      <td>3</td>\n",
       "      <td>2</td>\n",
       "      <td>1</td>\n",
       "      <td>2</td>\n",
       "    </tr>\n",
       "    <tr>\n",
       "      <th>2</th>\n",
       "      <td>1015425</td>\n",
       "      <td>3</td>\n",
       "      <td>1</td>\n",
       "      <td>1</td>\n",
       "      <td>1</td>\n",
       "      <td>2</td>\n",
       "      <td>2</td>\n",
       "      <td>3</td>\n",
       "      <td>1</td>\n",
       "      <td>1</td>\n",
       "      <td>2</td>\n",
       "    </tr>\n",
       "    <tr>\n",
       "      <th>3</th>\n",
       "      <td>1016277</td>\n",
       "      <td>6</td>\n",
       "      <td>8</td>\n",
       "      <td>8</td>\n",
       "      <td>1</td>\n",
       "      <td>3</td>\n",
       "      <td>4</td>\n",
       "      <td>3</td>\n",
       "      <td>7</td>\n",
       "      <td>1</td>\n",
       "      <td>2</td>\n",
       "    </tr>\n",
       "    <tr>\n",
       "      <th>4</th>\n",
       "      <td>1017023</td>\n",
       "      <td>4</td>\n",
       "      <td>1</td>\n",
       "      <td>1</td>\n",
       "      <td>3</td>\n",
       "      <td>2</td>\n",
       "      <td>1</td>\n",
       "      <td>3</td>\n",
       "      <td>1</td>\n",
       "      <td>1</td>\n",
       "      <td>2</td>\n",
       "    </tr>\n",
       "    <tr>\n",
       "      <th>...</th>\n",
       "      <td>...</td>\n",
       "      <td>...</td>\n",
       "      <td>...</td>\n",
       "      <td>...</td>\n",
       "      <td>...</td>\n",
       "      <td>...</td>\n",
       "      <td>...</td>\n",
       "      <td>...</td>\n",
       "      <td>...</td>\n",
       "      <td>...</td>\n",
       "      <td>...</td>\n",
       "    </tr>\n",
       "    <tr>\n",
       "      <th>694</th>\n",
       "      <td>776715</td>\n",
       "      <td>3</td>\n",
       "      <td>1</td>\n",
       "      <td>1</td>\n",
       "      <td>1</td>\n",
       "      <td>3</td>\n",
       "      <td>2</td>\n",
       "      <td>1</td>\n",
       "      <td>1</td>\n",
       "      <td>1</td>\n",
       "      <td>2</td>\n",
       "    </tr>\n",
       "    <tr>\n",
       "      <th>695</th>\n",
       "      <td>841769</td>\n",
       "      <td>2</td>\n",
       "      <td>1</td>\n",
       "      <td>1</td>\n",
       "      <td>1</td>\n",
       "      <td>2</td>\n",
       "      <td>1</td>\n",
       "      <td>1</td>\n",
       "      <td>1</td>\n",
       "      <td>1</td>\n",
       "      <td>2</td>\n",
       "    </tr>\n",
       "    <tr>\n",
       "      <th>696</th>\n",
       "      <td>888820</td>\n",
       "      <td>5</td>\n",
       "      <td>10</td>\n",
       "      <td>10</td>\n",
       "      <td>3</td>\n",
       "      <td>7</td>\n",
       "      <td>3</td>\n",
       "      <td>8</td>\n",
       "      <td>10</td>\n",
       "      <td>2</td>\n",
       "      <td>4</td>\n",
       "    </tr>\n",
       "    <tr>\n",
       "      <th>697</th>\n",
       "      <td>897471</td>\n",
       "      <td>4</td>\n",
       "      <td>8</td>\n",
       "      <td>6</td>\n",
       "      <td>4</td>\n",
       "      <td>3</td>\n",
       "      <td>4</td>\n",
       "      <td>10</td>\n",
       "      <td>6</td>\n",
       "      <td>1</td>\n",
       "      <td>4</td>\n",
       "    </tr>\n",
       "    <tr>\n",
       "      <th>698</th>\n",
       "      <td>897471</td>\n",
       "      <td>4</td>\n",
       "      <td>8</td>\n",
       "      <td>8</td>\n",
       "      <td>5</td>\n",
       "      <td>4</td>\n",
       "      <td>5</td>\n",
       "      <td>10</td>\n",
       "      <td>4</td>\n",
       "      <td>1</td>\n",
       "      <td>4</td>\n",
       "    </tr>\n",
       "  </tbody>\n",
       "</table>\n",
       "<p>699 rows × 11 columns</p>\n",
       "</div>\n",
       "      <button class=\"colab-df-convert\" onclick=\"convertToInteractive('df-6e709b78-2a70-4a4b-b456-7e9cd37c0bd4')\"\n",
       "              title=\"Convert this dataframe to an interactive table.\"\n",
       "              style=\"display:none;\">\n",
       "        \n",
       "  <svg xmlns=\"http://www.w3.org/2000/svg\" height=\"24px\"viewBox=\"0 0 24 24\"\n",
       "       width=\"24px\">\n",
       "    <path d=\"M0 0h24v24H0V0z\" fill=\"none\"/>\n",
       "    <path d=\"M18.56 5.44l.94 2.06.94-2.06 2.06-.94-2.06-.94-.94-2.06-.94 2.06-2.06.94zm-11 1L8.5 8.5l.94-2.06 2.06-.94-2.06-.94L8.5 2.5l-.94 2.06-2.06.94zm10 10l.94 2.06.94-2.06 2.06-.94-2.06-.94-.94-2.06-.94 2.06-2.06.94z\"/><path d=\"M17.41 7.96l-1.37-1.37c-.4-.4-.92-.59-1.43-.59-.52 0-1.04.2-1.43.59L10.3 9.45l-7.72 7.72c-.78.78-.78 2.05 0 2.83L4 21.41c.39.39.9.59 1.41.59.51 0 1.02-.2 1.41-.59l7.78-7.78 2.81-2.81c.8-.78.8-2.07 0-2.86zM5.41 20L4 18.59l7.72-7.72 1.47 1.35L5.41 20z\"/>\n",
       "  </svg>\n",
       "      </button>\n",
       "      \n",
       "  <style>\n",
       "    .colab-df-container {\n",
       "      display:flex;\n",
       "      flex-wrap:wrap;\n",
       "      gap: 12px;\n",
       "    }\n",
       "\n",
       "    .colab-df-convert {\n",
       "      background-color: #E8F0FE;\n",
       "      border: none;\n",
       "      border-radius: 50%;\n",
       "      cursor: pointer;\n",
       "      display: none;\n",
       "      fill: #1967D2;\n",
       "      height: 32px;\n",
       "      padding: 0 0 0 0;\n",
       "      width: 32px;\n",
       "    }\n",
       "\n",
       "    .colab-df-convert:hover {\n",
       "      background-color: #E2EBFA;\n",
       "      box-shadow: 0px 1px 2px rgba(60, 64, 67, 0.3), 0px 1px 3px 1px rgba(60, 64, 67, 0.15);\n",
       "      fill: #174EA6;\n",
       "    }\n",
       "\n",
       "    [theme=dark] .colab-df-convert {\n",
       "      background-color: #3B4455;\n",
       "      fill: #D2E3FC;\n",
       "    }\n",
       "\n",
       "    [theme=dark] .colab-df-convert:hover {\n",
       "      background-color: #434B5C;\n",
       "      box-shadow: 0px 1px 3px 1px rgba(0, 0, 0, 0.15);\n",
       "      filter: drop-shadow(0px 1px 2px rgba(0, 0, 0, 0.3));\n",
       "      fill: #FFFFFF;\n",
       "    }\n",
       "  </style>\n",
       "\n",
       "      <script>\n",
       "        const buttonEl =\n",
       "          document.querySelector('#df-6e709b78-2a70-4a4b-b456-7e9cd37c0bd4 button.colab-df-convert');\n",
       "        buttonEl.style.display =\n",
       "          google.colab.kernel.accessAllowed ? 'block' : 'none';\n",
       "\n",
       "        async function convertToInteractive(key) {\n",
       "          const element = document.querySelector('#df-6e709b78-2a70-4a4b-b456-7e9cd37c0bd4');\n",
       "          const dataTable =\n",
       "            await google.colab.kernel.invokeFunction('convertToInteractive',\n",
       "                                                     [key], {});\n",
       "          if (!dataTable) return;\n",
       "\n",
       "          const docLinkHtml = 'Like what you see? Visit the ' +\n",
       "            '<a target=\"_blank\" href=https://colab.research.google.com/notebooks/data_table.ipynb>data table notebook</a>'\n",
       "            + ' to learn more about interactive tables.';\n",
       "          element.innerHTML = '';\n",
       "          dataTable['output_type'] = 'display_data';\n",
       "          await google.colab.output.renderOutput(dataTable, element);\n",
       "          const docLink = document.createElement('div');\n",
       "          docLink.innerHTML = docLinkHtml;\n",
       "          element.appendChild(docLink);\n",
       "        }\n",
       "      </script>\n",
       "    </div>\n",
       "  </div>\n",
       "  "
      ],
      "text/plain": [
       "          id  f1  f2  f3  f4  f5  f6  f7  f8  f9  label\n",
       "0    1000025   5   1   1   1   2   1   3   1   1      2\n",
       "1    1002945   5   4   4   5   7  10   3   2   1      2\n",
       "2    1015425   3   1   1   1   2   2   3   1   1      2\n",
       "3    1016277   6   8   8   1   3   4   3   7   1      2\n",
       "4    1017023   4   1   1   3   2   1   3   1   1      2\n",
       "..       ...  ..  ..  ..  ..  ..  ..  ..  ..  ..    ...\n",
       "694   776715   3   1   1   1   3   2   1   1   1      2\n",
       "695   841769   2   1   1   1   2   1   1   1   1      2\n",
       "696   888820   5  10  10   3   7   3   8  10   2      4\n",
       "697   897471   4   8   6   4   3   4  10   6   1      4\n",
       "698   897471   4   8   8   5   4   5  10   4   1      4\n",
       "\n",
       "[699 rows x 11 columns]"
      ]
     },
     "metadata": {},
     "output_type": "display_data"
    }
   ],
   "source": [
    "cancer_data"
   ]
  },
  {
   "cell_type": "code",
   "execution_count": null,
   "metadata": {},
   "outputs": [
    {
     "name": "stdout",
     "output_type": "stream",
     "text": [
      "<class 'pandas.core.frame.DataFrame'>\n",
      "RangeIndex: 699 entries, 0 to 698\n",
      "Data columns (total 11 columns):\n",
      " #   Column  Non-Null Count  Dtype \n",
      "---  ------  --------------  ----- \n",
      " 0   id      699 non-null    int64 \n",
      " 1   f1      699 non-null    int64 \n",
      " 2   f2      699 non-null    int64 \n",
      " 3   f3      699 non-null    int64 \n",
      " 4   f4      699 non-null    int64 \n",
      " 5   f5      699 non-null    int64 \n",
      " 6   f6      699 non-null    object\n",
      " 7   f7      699 non-null    int64 \n",
      " 8   f8      699 non-null    int64 \n",
      " 9   f9      699 non-null    int64 \n",
      " 10  label   699 non-null    int64 \n",
      "dtypes: int64(10), object(1)\n",
      "memory usage: 60.2+ KB\n"
     ]
    }
   ],
   "source": [
    "cancer_data.info()"
   ]
  },
  {
   "cell_type": "markdown",
   "metadata": {},
   "source": [
    "# Feature 6 has some null values so we drop the samples with null values as '?' and string values so we drop the null values and convert strings into integers"
   ]
  },
  {
   "cell_type": "code",
   "execution_count": null,
   "metadata": {},
   "outputs": [],
   "source": [
    "cancer_data.drop(cancer_data.index[cancer_data['f6'] == '?'], inplace=True)\n",
    "cancer_data['f6'] = cancer_data[\"f6\"].astype(int)"
   ]
  },
  {
   "cell_type": "code",
   "execution_count": null,
   "metadata": {},
   "outputs": [
    {
     "data": {
      "text/html": [
       "\n",
       "  <div id=\"df-02e0cb1e-efb5-4475-aa53-9560898b6e34\">\n",
       "    <div class=\"colab-df-container\">\n",
       "      <div>\n",
       "<style scoped>\n",
       "    .dataframe tbody tr th:only-of-type {\n",
       "        vertical-align: middle;\n",
       "    }\n",
       "\n",
       "    .dataframe tbody tr th {\n",
       "        vertical-align: top;\n",
       "    }\n",
       "\n",
       "    .dataframe thead th {\n",
       "        text-align: right;\n",
       "    }\n",
       "</style>\n",
       "<table border=\"1\" class=\"dataframe\">\n",
       "  <thead>\n",
       "    <tr style=\"text-align: right;\">\n",
       "      <th></th>\n",
       "      <th>id</th>\n",
       "      <th>f1</th>\n",
       "      <th>f2</th>\n",
       "      <th>f3</th>\n",
       "      <th>f4</th>\n",
       "      <th>f5</th>\n",
       "      <th>f6</th>\n",
       "      <th>f7</th>\n",
       "      <th>f8</th>\n",
       "      <th>f9</th>\n",
       "      <th>label</th>\n",
       "    </tr>\n",
       "  </thead>\n",
       "  <tbody>\n",
       "    <tr>\n",
       "      <th>count</th>\n",
       "      <td>6.830000e+02</td>\n",
       "      <td>683.000000</td>\n",
       "      <td>683.000000</td>\n",
       "      <td>683.000000</td>\n",
       "      <td>683.000000</td>\n",
       "      <td>683.000000</td>\n",
       "      <td>683.000000</td>\n",
       "      <td>683.000000</td>\n",
       "      <td>683.000000</td>\n",
       "      <td>683.000000</td>\n",
       "      <td>683.000000</td>\n",
       "    </tr>\n",
       "    <tr>\n",
       "      <th>mean</th>\n",
       "      <td>1.076720e+06</td>\n",
       "      <td>4.442167</td>\n",
       "      <td>3.150805</td>\n",
       "      <td>3.215227</td>\n",
       "      <td>2.830161</td>\n",
       "      <td>3.234261</td>\n",
       "      <td>3.544656</td>\n",
       "      <td>3.445095</td>\n",
       "      <td>2.869693</td>\n",
       "      <td>1.603221</td>\n",
       "      <td>2.699854</td>\n",
       "    </tr>\n",
       "    <tr>\n",
       "      <th>std</th>\n",
       "      <td>6.206440e+05</td>\n",
       "      <td>2.820761</td>\n",
       "      <td>3.065145</td>\n",
       "      <td>2.988581</td>\n",
       "      <td>2.864562</td>\n",
       "      <td>2.223085</td>\n",
       "      <td>3.643857</td>\n",
       "      <td>2.449697</td>\n",
       "      <td>3.052666</td>\n",
       "      <td>1.732674</td>\n",
       "      <td>0.954592</td>\n",
       "    </tr>\n",
       "    <tr>\n",
       "      <th>min</th>\n",
       "      <td>6.337500e+04</td>\n",
       "      <td>1.000000</td>\n",
       "      <td>1.000000</td>\n",
       "      <td>1.000000</td>\n",
       "      <td>1.000000</td>\n",
       "      <td>1.000000</td>\n",
       "      <td>1.000000</td>\n",
       "      <td>1.000000</td>\n",
       "      <td>1.000000</td>\n",
       "      <td>1.000000</td>\n",
       "      <td>2.000000</td>\n",
       "    </tr>\n",
       "    <tr>\n",
       "      <th>25%</th>\n",
       "      <td>8.776170e+05</td>\n",
       "      <td>2.000000</td>\n",
       "      <td>1.000000</td>\n",
       "      <td>1.000000</td>\n",
       "      <td>1.000000</td>\n",
       "      <td>2.000000</td>\n",
       "      <td>1.000000</td>\n",
       "      <td>2.000000</td>\n",
       "      <td>1.000000</td>\n",
       "      <td>1.000000</td>\n",
       "      <td>2.000000</td>\n",
       "    </tr>\n",
       "    <tr>\n",
       "      <th>50%</th>\n",
       "      <td>1.171795e+06</td>\n",
       "      <td>4.000000</td>\n",
       "      <td>1.000000</td>\n",
       "      <td>1.000000</td>\n",
       "      <td>1.000000</td>\n",
       "      <td>2.000000</td>\n",
       "      <td>1.000000</td>\n",
       "      <td>3.000000</td>\n",
       "      <td>1.000000</td>\n",
       "      <td>1.000000</td>\n",
       "      <td>2.000000</td>\n",
       "    </tr>\n",
       "    <tr>\n",
       "      <th>75%</th>\n",
       "      <td>1.238705e+06</td>\n",
       "      <td>6.000000</td>\n",
       "      <td>5.000000</td>\n",
       "      <td>5.000000</td>\n",
       "      <td>4.000000</td>\n",
       "      <td>4.000000</td>\n",
       "      <td>6.000000</td>\n",
       "      <td>5.000000</td>\n",
       "      <td>4.000000</td>\n",
       "      <td>1.000000</td>\n",
       "      <td>4.000000</td>\n",
       "    </tr>\n",
       "    <tr>\n",
       "      <th>max</th>\n",
       "      <td>1.345435e+07</td>\n",
       "      <td>10.000000</td>\n",
       "      <td>10.000000</td>\n",
       "      <td>10.000000</td>\n",
       "      <td>10.000000</td>\n",
       "      <td>10.000000</td>\n",
       "      <td>10.000000</td>\n",
       "      <td>10.000000</td>\n",
       "      <td>10.000000</td>\n",
       "      <td>10.000000</td>\n",
       "      <td>4.000000</td>\n",
       "    </tr>\n",
       "  </tbody>\n",
       "</table>\n",
       "</div>\n",
       "      <button class=\"colab-df-convert\" onclick=\"convertToInteractive('df-02e0cb1e-efb5-4475-aa53-9560898b6e34')\"\n",
       "              title=\"Convert this dataframe to an interactive table.\"\n",
       "              style=\"display:none;\">\n",
       "        \n",
       "  <svg xmlns=\"http://www.w3.org/2000/svg\" height=\"24px\"viewBox=\"0 0 24 24\"\n",
       "       width=\"24px\">\n",
       "    <path d=\"M0 0h24v24H0V0z\" fill=\"none\"/>\n",
       "    <path d=\"M18.56 5.44l.94 2.06.94-2.06 2.06-.94-2.06-.94-.94-2.06-.94 2.06-2.06.94zm-11 1L8.5 8.5l.94-2.06 2.06-.94-2.06-.94L8.5 2.5l-.94 2.06-2.06.94zm10 10l.94 2.06.94-2.06 2.06-.94-2.06-.94-.94-2.06-.94 2.06-2.06.94z\"/><path d=\"M17.41 7.96l-1.37-1.37c-.4-.4-.92-.59-1.43-.59-.52 0-1.04.2-1.43.59L10.3 9.45l-7.72 7.72c-.78.78-.78 2.05 0 2.83L4 21.41c.39.39.9.59 1.41.59.51 0 1.02-.2 1.41-.59l7.78-7.78 2.81-2.81c.8-.78.8-2.07 0-2.86zM5.41 20L4 18.59l7.72-7.72 1.47 1.35L5.41 20z\"/>\n",
       "  </svg>\n",
       "      </button>\n",
       "      \n",
       "  <style>\n",
       "    .colab-df-container {\n",
       "      display:flex;\n",
       "      flex-wrap:wrap;\n",
       "      gap: 12px;\n",
       "    }\n",
       "\n",
       "    .colab-df-convert {\n",
       "      background-color: #E8F0FE;\n",
       "      border: none;\n",
       "      border-radius: 50%;\n",
       "      cursor: pointer;\n",
       "      display: none;\n",
       "      fill: #1967D2;\n",
       "      height: 32px;\n",
       "      padding: 0 0 0 0;\n",
       "      width: 32px;\n",
       "    }\n",
       "\n",
       "    .colab-df-convert:hover {\n",
       "      background-color: #E2EBFA;\n",
       "      box-shadow: 0px 1px 2px rgba(60, 64, 67, 0.3), 0px 1px 3px 1px rgba(60, 64, 67, 0.15);\n",
       "      fill: #174EA6;\n",
       "    }\n",
       "\n",
       "    [theme=dark] .colab-df-convert {\n",
       "      background-color: #3B4455;\n",
       "      fill: #D2E3FC;\n",
       "    }\n",
       "\n",
       "    [theme=dark] .colab-df-convert:hover {\n",
       "      background-color: #434B5C;\n",
       "      box-shadow: 0px 1px 3px 1px rgba(0, 0, 0, 0.15);\n",
       "      filter: drop-shadow(0px 1px 2px rgba(0, 0, 0, 0.3));\n",
       "      fill: #FFFFFF;\n",
       "    }\n",
       "  </style>\n",
       "\n",
       "      <script>\n",
       "        const buttonEl =\n",
       "          document.querySelector('#df-02e0cb1e-efb5-4475-aa53-9560898b6e34 button.colab-df-convert');\n",
       "        buttonEl.style.display =\n",
       "          google.colab.kernel.accessAllowed ? 'block' : 'none';\n",
       "\n",
       "        async function convertToInteractive(key) {\n",
       "          const element = document.querySelector('#df-02e0cb1e-efb5-4475-aa53-9560898b6e34');\n",
       "          const dataTable =\n",
       "            await google.colab.kernel.invokeFunction('convertToInteractive',\n",
       "                                                     [key], {});\n",
       "          if (!dataTable) return;\n",
       "\n",
       "          const docLinkHtml = 'Like what you see? Visit the ' +\n",
       "            '<a target=\"_blank\" href=https://colab.research.google.com/notebooks/data_table.ipynb>data table notebook</a>'\n",
       "            + ' to learn more about interactive tables.';\n",
       "          element.innerHTML = '';\n",
       "          dataTable['output_type'] = 'display_data';\n",
       "          await google.colab.output.renderOutput(dataTable, element);\n",
       "          const docLink = document.createElement('div');\n",
       "          docLink.innerHTML = docLinkHtml;\n",
       "          element.appendChild(docLink);\n",
       "        }\n",
       "      </script>\n",
       "    </div>\n",
       "  </div>\n",
       "  "
      ],
      "text/plain": [
       "                 id          f1          f2          f3          f4  \\\n",
       "count  6.830000e+02  683.000000  683.000000  683.000000  683.000000   \n",
       "mean   1.076720e+06    4.442167    3.150805    3.215227    2.830161   \n",
       "std    6.206440e+05    2.820761    3.065145    2.988581    2.864562   \n",
       "min    6.337500e+04    1.000000    1.000000    1.000000    1.000000   \n",
       "25%    8.776170e+05    2.000000    1.000000    1.000000    1.000000   \n",
       "50%    1.171795e+06    4.000000    1.000000    1.000000    1.000000   \n",
       "75%    1.238705e+06    6.000000    5.000000    5.000000    4.000000   \n",
       "max    1.345435e+07   10.000000   10.000000   10.000000   10.000000   \n",
       "\n",
       "               f5          f6          f7          f8          f9       label  \n",
       "count  683.000000  683.000000  683.000000  683.000000  683.000000  683.000000  \n",
       "mean     3.234261    3.544656    3.445095    2.869693    1.603221    2.699854  \n",
       "std      2.223085    3.643857    2.449697    3.052666    1.732674    0.954592  \n",
       "min      1.000000    1.000000    1.000000    1.000000    1.000000    2.000000  \n",
       "25%      2.000000    1.000000    2.000000    1.000000    1.000000    2.000000  \n",
       "50%      2.000000    1.000000    3.000000    1.000000    1.000000    2.000000  \n",
       "75%      4.000000    6.000000    5.000000    4.000000    1.000000    4.000000  \n",
       "max     10.000000   10.000000   10.000000   10.000000   10.000000    4.000000  "
      ]
     },
     "metadata": {},
     "output_type": "display_data"
    }
   ],
   "source": [
    "cancer_data.describe()"
   ]
  },
  {
   "cell_type": "markdown",
   "metadata": {},
   "source": [
    "Checking for null values"
   ]
  },
  {
   "cell_type": "code",
   "execution_count": null,
   "metadata": {},
   "outputs": [
    {
     "data": {
      "text/plain": [
       "id       0\n",
       "f1       0\n",
       "f2       0\n",
       "f3       0\n",
       "f4       0\n",
       "f5       0\n",
       "f6       0\n",
       "f7       0\n",
       "f8       0\n",
       "f9       0\n",
       "label    0\n",
       "dtype: int64"
      ]
     },
     "metadata": {},
     "output_type": "display_data"
    }
   ],
   "source": [
    "cancer_data.isnull().sum()"
   ]
  },
  {
   "cell_type": "markdown",
   "metadata": {},
   "source": [
    "# Removing labels from the dataset"
   ]
  },
  {
   "cell_type": "code",
   "execution_count": null,
   "metadata": {},
   "outputs": [],
   "source": [
    "labels = cancer_data['label']"
   ]
  },
  {
   "cell_type": "markdown",
   "metadata": {},
   "source": [
    "# Plotting Co-relation Matrix to identify irrelevant features"
   ]
  },
  {
   "cell_type": "code",
   "execution_count": null,
   "metadata": {},
   "outputs": [
    {
     "data": {
      "text/plain": [
       "<matplotlib.axes._subplots.AxesSubplot at 0x7f93ef3fae90>"
      ]
     },
     "metadata": {},
     "output_type": "display_data"
    },
    {
     "data": {
      "image/png": "[encoded data removed]",
      "text/plain": [
       "<Figure size 432x288 with 2 Axes>"
      ]
     },
     "metadata": {},
     "output_type": "display_data"
    }
   ],
   "source": [
    "import seaborn as sns\n",
    "\n",
    "sns.heatmap(cancer_data.corr())"
   ]
  },
  {
   "cell_type": "markdown",
   "metadata": {},
   "source": [
    "# Dropping id as it is irrelevant to our problem"
   ]
  },
  {
   "cell_type": "code",
   "execution_count": null,
   "metadata": {},
   "outputs": [],
   "source": [
    "cancer_data = cancer_data.drop('label', axis = 1)\n",
    "cancer_data = cancer_data.drop('id', axis = 1)"
   ]
  },
  {
   "cell_type": "code",
   "execution_count": null,
   "metadata": {},
   "outputs": [
    {
     "data": {
      "text/plain": [
       "(     f1  f2  f3  f4  f5  f6  f7  f8  f9\n",
       " 0     5   1   1   1   2   1   3   1   1\n",
       " 1     5   4   4   5   7  10   3   2   1\n",
       " 2     3   1   1   1   2   2   3   1   1\n",
       " 3     6   8   8   1   3   4   3   7   1\n",
       " 4     4   1   1   3   2   1   3   1   1\n",
       " ..   ..  ..  ..  ..  ..  ..  ..  ..  ..\n",
       " 694   3   1   1   1   3   2   1   1   1\n",
       " 695   2   1   1   1   2   1   1   1   1\n",
       " 696   5  10  10   3   7   3   8  10   2\n",
       " 697   4   8   6   4   3   4  10   6   1\n",
       " 698   4   8   8   5   4   5  10   4   1\n",
       " \n",
       " [683 rows x 9 columns], 0      2\n",
       " 1      2\n",
       " 2      2\n",
       " 3      2\n",
       " 4      2\n",
       "       ..\n",
       " 694    2\n",
       " 695    2\n",
       " 696    4\n",
       " 697    4\n",
       " 698    4\n",
       " Name: label, Length: 683, dtype: int64)"
      ]
     },
     "metadata": {},
     "output_type": "display_data"
    }
   ],
   "source": [
    "cancer_data, labels"
   ]
  },
  {
   "cell_type": "markdown",
   "metadata": {},
   "source": [
    "# Writing Function for K *means*"
   ]
  },
  {
   "cell_type": "code",
   "execution_count": null,
   "metadata": {},
   "outputs": [],
   "source": [
    "import random as rand\n",
    "class KMeans():\n",
    "\n",
    "    def __init__(self, k, iter):\n",
    "        self.k = k\n",
    "        self.iter = iter\n",
    "\n",
    "    def initialize(self, data):    \n",
    "        centroids = []\n",
    "\n",
    "        for _ in range(self.k):\n",
    "            centroid = data[rand.randint(0, len(data))]\n",
    "            centroids.append(centroid)\n",
    "\n",
    "        return centroids \n",
    "\n",
    "    def clustering(self, data, centroids):\n",
    "        assigned_clusters = []\n",
    "\n",
    "        for sample in data:\n",
    "            cluster = []\n",
    "\n",
    "            for centroid in centroids:\n",
    "\n",
    "                closest_clust = np.linalg.norm(np.array(sample) - np.array(centroid))\n",
    "                cluster.append(closest_clust)\n",
    "\n",
    "            assigned_cluster = np.argmin(cluster)\n",
    "            assigned_clusters.append(assigned_cluster)\n",
    "\n",
    "        return assigned_clusters\n",
    "\n",
    "    def update_centroids(self, data, centroids, assigned_clusters):\n",
    "        centroids = []\n",
    "\n",
    "        for i in range(self.k):\n",
    "            cluster = []\n",
    "\n",
    "            for j in range(len(data)):\n",
    "\n",
    "                if (assigned_clusters[j] == i):\n",
    "                    cluster.append(data[j])\n",
    "\n",
    "            mean = list(np.mean(cluster, axis=0))\n",
    "            centroids.append(mean)\n",
    "\n",
    "        return centroids\n",
    "\n",
    "    def assign_cluster(self, data, assigned_clusters):\n",
    "\n",
    "        clusters = []\n",
    "        for i in range(self.k):\n",
    "            cluster = []\n",
    "\n",
    "            for j in range(len(data)):\n",
    "\n",
    "                if (assigned_clusters[j] == i):\n",
    "                    cluster.append(data[j])\n",
    "\n",
    "            clusters.append(cluster)\n",
    "\n",
    "        return clusters\n",
    "\n",
    "    def prediction(self, data, final_clusters):\n",
    "\n",
    "        pred = []\n",
    "\n",
    "        for sample in data:\n",
    "\n",
    "            if sample in final_clusters[0]:\n",
    "                pred.append(2)\n",
    "\n",
    "            else:\n",
    "                pred.append(4)\n",
    "\n",
    "        return pred\n",
    "\n",
    "    def score(self, pred, labels):\n",
    "\n",
    "        correct = (labels == pred)\n",
    "        score = correct.sum() / correct.size\n",
    "        accuracy  = 'Accuracy is : ' + str((score)*100) + ' %'\n",
    "\n",
    "        return accuracy\n",
    "\n",
    "    def fit(self, data):\n",
    "\n",
    "        data = data.values.tolist()\n",
    "        centroids = self.initialize(data)\n",
    "        print('Staring with Centroids :', centroids, '\\n')\n",
    "\n",
    "\n",
    "        for i in range(self.iter):\n",
    "\n",
    "            print('------Iteration ', i+1 ,'---------')\n",
    "            assigned_clusters = self.clustering(data, centroids)\n",
    "\n",
    "            centroids = self.update_centroids(data, centroids, assigned_clusters)\n",
    "            print('Centroids are :', centroids, \"\\n\")\n",
    "\n",
    "        final_clusters = self.assign_cluster(data, assigned_clusters)\n",
    "        pred = self.prediction(data, final_clusters)\n",
    "\n",
    "        return pred\n",
    "\n"
   ]
  },
  {
   "cell_type": "markdown",
   "metadata": {},
   "source": [
    "# Testing Kmeans algorithm on 10 iterations\n",
    "Note :- we take k = 2 as the dataset labels only have 2 classes"
   ]
  },
  {
   "cell_type": "code",
   "execution_count": null,
   "metadata": {},
   "outputs": [],
   "source": [
    "from sklearn.model_selection import train_test_split\n",
    "\n",
    "x_train, x_test, y_train, y_test = train_test_split(cancer_data, labels, test_size=0.2, random_state=0)"
   ]
  },
  {
   "cell_type": "code",
   "execution_count": null,
   "metadata": {},
   "outputs": [],
   "source": [
    "model = KMeans(k=2, iter=10)"
   ]
  },
  {
   "cell_type": "code",
   "execution_count": null,
   "metadata": {},
   "outputs": [
    {
     "name": "stdout",
     "output_type": "stream",
     "text": [
      "Staring with Centroids : [[5, 1, 1, 1, 2, 1, 2, 1, 1], [10, 5, 7, 4, 4, 10, 8, 9, 1]] \n",
      "\n",
      "------Iteration  1 ---------\n",
      "Centroids are : [[3.1105121293800537, 1.366576819407008, 1.4851752021563343, 1.398921832884097, 2.142857142857143, 1.3692722371967656, 2.161725067385445, 1.280323450134771, 1.0943396226415094], [7.228571428571429, 6.914285714285715, 6.845714285714286, 5.731428571428571, 5.508571428571429, 7.8914285714285715, 6.234285714285714, 6.422857142857143, 2.662857142857143]] \n",
      "\n",
      "------Iteration  2 ---------\n",
      "Centroids are : [[3.0657534246575344, 1.3095890410958904, 1.4465753424657535, 1.3287671232876712, 2.073972602739726, 1.3287671232876712, 2.128767123287671, 1.2493150684931507, 1.093150684931507], [7.18232044198895, 6.845303867403315, 6.745856353591161, 5.7292817679558015, 5.535911602209945, 7.7569060773480665, 6.165745856353591, 6.314917127071824, 2.613259668508287]] \n",
      "\n",
      "------Iteration  3 ---------\n",
      "Centroids are : [[3.041322314049587, 1.2947658402203857, 1.4352617079889807, 1.3305785123966942, 2.0606060606060606, 1.2975206611570247, 2.118457300275482, 1.2479338842975207, 1.0881542699724518], [7.185792349726776, 6.814207650273224, 6.7103825136612025, 5.6775956284153, 5.524590163934426, 7.748633879781421, 6.14207650273224, 6.262295081967213, 2.6065573770491803]] \n",
      "\n",
      "------Iteration  4 ---------\n",
      "Centroids are : [[3.041322314049587, 1.2947658402203857, 1.4352617079889807, 1.3305785123966942, 2.0606060606060606, 1.2975206611570247, 2.118457300275482, 1.2479338842975207, 1.0881542699724518], [7.185792349726776, 6.814207650273224, 6.7103825136612025, 5.6775956284153, 5.524590163934426, 7.748633879781421, 6.14207650273224, 6.262295081967213, 2.6065573770491803]] \n",
      "\n",
      "------Iteration  5 ---------\n",
      "Centroids are : [[3.041322314049587, 1.2947658402203857, 1.4352617079889807, 1.3305785123966942, 2.0606060606060606, 1.2975206611570247, 2.118457300275482, 1.2479338842975207, 1.0881542699724518], [7.185792349726776, 6.814207650273224, 6.7103825136612025, 5.6775956284153, 5.524590163934426, 7.748633879781421, 6.14207650273224, 6.262295081967213, 2.6065573770491803]] \n",
      "\n",
      "------Iteration  6 ---------\n",
      "Centroids are : [[3.041322314049587, 1.2947658402203857, 1.4352617079889807, 1.3305785123966942, 2.0606060606060606, 1.2975206611570247, 2.118457300275482, 1.2479338842975207, 1.0881542699724518], [7.185792349726776, 6.814207650273224, 6.7103825136612025, 5.6775956284153, 5.524590163934426, 7.748633879781421, 6.14207650273224, 6.262295081967213, 2.6065573770491803]] \n",
      "\n",
      "------Iteration  7 ---------\n",
      "Centroids are : [[3.041322314049587, 1.2947658402203857, 1.4352617079889807, 1.3305785123966942, 2.0606060606060606, 1.2975206611570247, 2.118457300275482, 1.2479338842975207, 1.0881542699724518], [7.185792349726776, 6.814207650273224, 6.7103825136612025, 5.6775956284153, 5.524590163934426, 7.748633879781421, 6.14207650273224, 6.262295081967213, 2.6065573770491803]] \n",
      "\n",
      "------Iteration  8 ---------\n",
      "Centroids are : [[3.041322314049587, 1.2947658402203857, 1.4352617079889807, 1.3305785123966942, 2.0606060606060606, 1.2975206611570247, 2.118457300275482, 1.2479338842975207, 1.0881542699724518], [7.185792349726776, 6.814207650273224, 6.7103825136612025, 5.6775956284153, 5.524590163934426, 7.748633879781421, 6.14207650273224, 6.262295081967213, 2.6065573770491803]] \n",
      "\n",
      "------Iteration  9 ---------\n",
      "Centroids are : [[3.041322314049587, 1.2947658402203857, 1.4352617079889807, 1.3305785123966942, 2.0606060606060606, 1.2975206611570247, 2.118457300275482, 1.2479338842975207, 1.0881542699724518], [7.185792349726776, 6.814207650273224, 6.7103825136612025, 5.6775956284153, 5.524590163934426, 7.748633879781421, 6.14207650273224, 6.262295081967213, 2.6065573770491803]] \n",
      "\n",
      "------Iteration  10 ---------\n",
      "Centroids are : [[3.041322314049587, 1.2947658402203857, 1.4352617079889807, 1.3305785123966942, 2.0606060606060606, 1.2975206611570247, 2.118457300275482, 1.2479338842975207, 1.0881542699724518], [7.185792349726776, 6.814207650273224, 6.7103825136612025, 5.6775956284153, 5.524590163934426, 7.748633879781421, 6.14207650273224, 6.262295081967213, 2.6065573770491803]] \n",
      "\n"
     ]
    }
   ],
   "source": [
    "pred = model.fit(x_train)"
   ]
  },
  {
   "cell_type": "markdown",
   "metadata": {},
   "source": [
    "# Finding accuracy of the Model using predicted values and labels"
   ]
  },
  {
   "cell_type": "code",
   "execution_count": null,
   "metadata": {},
   "outputs": [
    {
     "data": {
      "application/vnd.google.colaboratory.intrinsic+json": {
       "type": "string"
      },
      "text/plain": [
       "'Accuracy is : 96.7032967032967 %'"
      ]
     },
     "metadata": {},
     "output_type": "display_data"
    }
   ],
   "source": [
    "model.score(pred, y_train)"
   ]
  },
  {
   "cell_type": "markdown",
   "metadata": {},
   "source": [
    "# Testing the Model on different centers by using differnt seeds for random selection of centers"
   ]
  },
  {
   "cell_type": "code",
   "execution_count": null,
   "metadata": {},
   "outputs": [],
   "source": [
    "rand.seed = 1\n",
    "model1 = KMeans(k=2,iter=10)\n",
    "\n",
    "rand.seed = 2\n",
    "model2 = KMeans(k=2,iter=10)\n",
    "\n",
    "rand.seed = 3\n",
    "model3 = KMeans(k=2,iter=10)"
   ]
  },
  {
   "cell_type": "code",
   "execution_count": null,
   "metadata": {},
   "outputs": [
    {
     "name": "stdout",
     "output_type": "stream",
     "text": [
      "Staring with Centroids : [[1, 1, 1, 1, 2, 1, 3, 1, 1], [5, 7, 9, 8, 6, 10, 8, 10, 1]] \n",
      "\n",
      "------Iteration  1 ---------\n",
      "Centroids are : [[3.1485411140583555, 1.3925729442970822, 1.5198938992042441, 1.3925729442970822, 2.1538461538461537, 1.493368700265252, 2.220159151193634, 1.312997347480106, 1.0981432360742707], [7.289940828402367, 7.053254437869822, 6.958579881656805, 5.899408284023669, 5.603550295857988, 7.846153846153846, 6.2485207100591715, 6.5325443786982245, 2.710059171597633]] \n",
      "\n",
      "------Iteration  2 ---------\n",
      "Centroids are : [[3.0846994535519126, 1.3169398907103824, 1.4508196721311475, 1.3278688524590163, 2.0765027322404372, 1.3333333333333333, 2.139344262295082, 1.2595628415300546, 1.0956284153005464], [7.166666666666667, 6.861111111111111, 6.766666666666667, 5.7555555555555555, 5.55, 7.783333333333333, 6.166666666666667, 6.322222222222222, 2.6166666666666667]] \n",
      "\n",
      "------Iteration  3 ---------\n",
      "Centroids are : [[3.041322314049587, 1.2947658402203857, 1.4352617079889807, 1.3305785123966942, 2.0606060606060606, 1.2975206611570247, 2.118457300275482, 1.2479338842975207, 1.0881542699724518], [7.185792349726776, 6.814207650273224, 6.7103825136612025, 5.6775956284153, 5.524590163934426, 7.748633879781421, 6.14207650273224, 6.262295081967213, 2.6065573770491803]] \n",
      "\n",
      "------Iteration  4 ---------\n",
      "Centroids are : [[3.041322314049587, 1.2947658402203857, 1.4352617079889807, 1.3305785123966942, 2.0606060606060606, 1.2975206611570247, 2.118457300275482, 1.2479338842975207, 1.0881542699724518], [7.185792349726776, 6.814207650273224, 6.7103825136612025, 5.6775956284153, 5.524590163934426, 7.748633879781421, 6.14207650273224, 6.262295081967213, 2.6065573770491803]] \n",
      "\n",
      "------Iteration  5 ---------\n",
      "Centroids are : [[3.041322314049587, 1.2947658402203857, 1.4352617079889807, 1.3305785123966942, 2.0606060606060606, 1.2975206611570247, 2.118457300275482, 1.2479338842975207, 1.0881542699724518], [7.185792349726776, 6.814207650273224, 6.7103825136612025, 5.6775956284153, 5.524590163934426, 7.748633879781421, 6.14207650273224, 6.262295081967213, 2.6065573770491803]] \n",
      "\n",
      "------Iteration  6 ---------\n",
      "Centroids are : [[3.041322314049587, 1.2947658402203857, 1.4352617079889807, 1.3305785123966942, 2.0606060606060606, 1.2975206611570247, 2.118457300275482, 1.2479338842975207, 1.0881542699724518], [7.185792349726776, 6.814207650273224, 6.7103825136612025, 5.6775956284153, 5.524590163934426, 7.748633879781421, 6.14207650273224, 6.262295081967213, 2.6065573770491803]] \n",
      "\n",
      "------Iteration  7 ---------\n",
      "Centroids are : [[3.041322314049587, 1.2947658402203857, 1.4352617079889807, 1.3305785123966942, 2.0606060606060606, 1.2975206611570247, 2.118457300275482, 1.2479338842975207, 1.0881542699724518], [7.185792349726776, 6.814207650273224, 6.7103825136612025, 5.6775956284153, 5.524590163934426, 7.748633879781421, 6.14207650273224, 6.262295081967213, 2.6065573770491803]] \n",
      "\n",
      "------Iteration  8 ---------\n",
      "Centroids are : [[3.041322314049587, 1.2947658402203857, 1.4352617079889807, 1.3305785123966942, 2.0606060606060606, 1.2975206611570247, 2.118457300275482, 1.2479338842975207, 1.0881542699724518], [7.185792349726776, 6.814207650273224, 6.7103825136612025, 5.6775956284153, 5.524590163934426, 7.748633879781421, 6.14207650273224, 6.262295081967213, 2.6065573770491803]] \n",
      "\n",
      "------Iteration  9 ---------\n",
      "Centroids are : [[3.041322314049587, 1.2947658402203857, 1.4352617079889807, 1.3305785123966942, 2.0606060606060606, 1.2975206611570247, 2.118457300275482, 1.2479338842975207, 1.0881542699724518], [7.185792349726776, 6.814207650273224, 6.7103825136612025, 5.6775956284153, 5.524590163934426, 7.748633879781421, 6.14207650273224, 6.262295081967213, 2.6065573770491803]] \n",
      "\n",
      "------Iteration  10 ---------\n",
      "Centroids are : [[3.041322314049587, 1.2947658402203857, 1.4352617079889807, 1.3305785123966942, 2.0606060606060606, 1.2975206611570247, 2.118457300275482, 1.2479338842975207, 1.0881542699724518], [7.185792349726776, 6.814207650273224, 6.7103825136612025, 5.6775956284153, 5.524590163934426, 7.748633879781421, 6.14207650273224, 6.262295081967213, 2.6065573770491803]] \n",
      "\n",
      "Staring with Centroids : [[1, 1, 1, 1, 2, 1, 1, 1, 1], [1, 1, 1, 1, 2, 1, 2, 1, 1]] \n",
      "\n",
      "------Iteration  1 ---------\n",
      "Centroids are : [[2.8173913043478263, 1.2173913043478262, 1.4, 1.3304347826086957, 2.0521739130434784, 1.3043478260869565, 1.0, 1.0869565217391304, 1.1478260869565218], [4.860788863109049, 3.6589327146171695, 3.6844547563805103, 3.176334106728538, 3.5336426914153134, 4.034802784222737, 4.125290023201856, 3.4199535962877032, 1.716937354988399]] \n",
      "\n",
      "------Iteration  2 ---------\n",
      "Centroids are : [[2.8823529411764706, 1.1794117647058824, 1.3176470588235294, 1.2588235294117647, 1.988235294117647, 1.1764705882352942, 2.0058823529411764, 1.1294117647058823, 1.0588235294117647], [6.985436893203883, 6.388349514563107, 6.315533980582524, 5.310679611650485, 5.257281553398058, 7.228155339805825, 5.878640776699029, 5.898058252427185, 2.4854368932038833]] \n",
      "\n",
      "------Iteration  3 ---------\n",
      "Centroids are : [[3.011142061281337, 1.2729805013927578, 1.4011142061281336, 1.317548746518106, 2.0250696378830084, 1.2813370473537604, 2.105849582172702, 1.1949860724233983, 1.0891364902506964], [7.1550802139037435, 6.737967914438503, 6.663101604278075, 5.609625668449198, 5.518716577540107, 7.641711229946524, 6.080213903743315, 6.25668449197861, 2.572192513368984]] \n",
      "\n",
      "------Iteration  4 ---------\n",
      "Centroids are : [[3.0249307479224377, 1.2853185595567866, 1.4182825484764543, 1.3157894736842106, 2.0498614958448753, 1.2825484764542936, 2.110803324099723, 1.2299168975069252, 1.0886426592797784], [7.172972972972973, 6.772972972972973, 6.686486486486486, 5.65945945945946, 5.508108108108108, 7.708108108108108, 6.113513513513514, 6.243243243243243, 2.5891891891891894]] \n",
      "\n",
      "------Iteration  5 ---------\n",
      "Centroids are : [[3.0249307479224377, 1.2853185595567866, 1.4182825484764543, 1.3157894736842106, 2.0498614958448753, 1.2825484764542936, 2.110803324099723, 1.2299168975069252, 1.0886426592797784], [7.172972972972973, 6.772972972972973, 6.686486486486486, 5.65945945945946, 5.508108108108108, 7.708108108108108, 6.113513513513514, 6.243243243243243, 2.5891891891891894]] \n",
      "\n",
      "------Iteration  6 ---------\n",
      "Centroids are : [[3.0249307479224377, 1.2853185595567866, 1.4182825484764543, 1.3157894736842106, 2.0498614958448753, 1.2825484764542936, 2.110803324099723, 1.2299168975069252, 1.0886426592797784], [7.172972972972973, 6.772972972972973, 6.686486486486486, 5.65945945945946, 5.508108108108108, 7.708108108108108, 6.113513513513514, 6.243243243243243, 2.5891891891891894]] \n",
      "\n",
      "------Iteration  7 ---------\n",
      "Centroids are : [[3.0249307479224377, 1.2853185595567866, 1.4182825484764543, 1.3157894736842106, 2.0498614958448753, 1.2825484764542936, 2.110803324099723, 1.2299168975069252, 1.0886426592797784], [7.172972972972973, 6.772972972972973, 6.686486486486486, 5.65945945945946, 5.508108108108108, 7.708108108108108, 6.113513513513514, 6.243243243243243, 2.5891891891891894]] \n",
      "\n",
      "------Iteration  8 ---------\n",
      "Centroids are : [[3.0249307479224377, 1.2853185595567866, 1.4182825484764543, 1.3157894736842106, 2.0498614958448753, 1.2825484764542936, 2.110803324099723, 1.2299168975069252, 1.0886426592797784], [7.172972972972973, 6.772972972972973, 6.686486486486486, 5.65945945945946, 5.508108108108108, 7.708108108108108, 6.113513513513514, 6.243243243243243, 2.5891891891891894]] \n",
      "\n",
      "------Iteration  9 ---------\n",
      "Centroids are : [[3.0249307479224377, 1.2853185595567866, 1.4182825484764543, 1.3157894736842106, 2.0498614958448753, 1.2825484764542936, 2.110803324099723, 1.2299168975069252, 1.0886426592797784], [7.172972972972973, 6.772972972972973, 6.686486486486486, 5.65945945945946, 5.508108108108108, 7.708108108108108, 6.113513513513514, 6.243243243243243, 2.5891891891891894]] \n",
      "\n",
      "------Iteration  10 ---------\n",
      "Centroids are : [[3.0249307479224377, 1.2853185595567866, 1.4182825484764543, 1.3157894736842106, 2.0498614958448753, 1.2825484764542936, 2.110803324099723, 1.2299168975069252, 1.0886426592797784], [7.172972972972973, 6.772972972972973, 6.686486486486486, 5.65945945945946, 5.508108108108108, 7.708108108108108, 6.113513513513514, 6.243243243243243, 2.5891891891891894]] \n",
      "\n",
      "Staring with Centroids : [[2, 1, 1, 1, 2, 1, 3, 1, 1], [5, 1, 1, 1, 2, 1, 3, 1, 1]] \n",
      "\n",
      "------Iteration  1 ---------\n",
      "Centroids are : [[1.871244635193133, 1.4678111587982832, 1.5236051502145922, 1.536480686695279, 2.1587982832618025, 1.6995708154506437, 2.2832618025751072, 1.3948497854077253, 1.145922746781116], [6.335463258785943, 4.39297124600639, 4.453674121405751, 3.718849840255591, 4.012779552715655, 4.7699680511182105, 4.348242811501597, 4.0702875399361025, 1.9329073482428114]] \n",
      "\n",
      "------Iteration  2 ---------\n",
      "Centroids are : [[2.88728323699422, 1.2080924855491328, 1.3323699421965318, 1.260115606936416, 1.9884393063583814, 1.216763005780347, 2.040462427745665, 1.1445086705202312, 1.060693641618497], [7.1, 6.495, 6.44, 5.43, 5.355, 7.34, 5.935, 6.015, 2.525]] \n",
      "\n",
      "------Iteration  3 ---------\n",
      "Centroids are : [[3.0166666666666666, 1.2805555555555554, 1.4111111111111112, 1.3166666666666667, 2.0416666666666665, 1.2805555555555554, 2.1083333333333334, 1.2083333333333333, 1.0888888888888888], [7.166666666666667, 6.752688172043011, 6.672043010752688, 5.634408602150538, 5.505376344086022, 7.67741935483871, 6.096774193548387, 6.258064516129032, 2.5806451612903225]] \n",
      "\n",
      "------Iteration  4 ---------\n",
      "Centroids are : [[3.0249307479224377, 1.2853185595567866, 1.4182825484764543, 1.3157894736842106, 2.0498614958448753, 1.2825484764542936, 2.110803324099723, 1.2299168975069252, 1.0886426592797784], [7.172972972972973, 6.772972972972973, 6.686486486486486, 5.65945945945946, 5.508108108108108, 7.708108108108108, 6.113513513513514, 6.243243243243243, 2.5891891891891894]] \n",
      "\n",
      "------Iteration  5 ---------\n",
      "Centroids are : [[3.0249307479224377, 1.2853185595567866, 1.4182825484764543, 1.3157894736842106, 2.0498614958448753, 1.2825484764542936, 2.110803324099723, 1.2299168975069252, 1.0886426592797784], [7.172972972972973, 6.772972972972973, 6.686486486486486, 5.65945945945946, 5.508108108108108, 7.708108108108108, 6.113513513513514, 6.243243243243243, 2.5891891891891894]] \n",
      "\n",
      "------Iteration  6 ---------\n",
      "Centroids are : [[3.0249307479224377, 1.2853185595567866, 1.4182825484764543, 1.3157894736842106, 2.0498614958448753, 1.2825484764542936, 2.110803324099723, 1.2299168975069252, 1.0886426592797784], [7.172972972972973, 6.772972972972973, 6.686486486486486, 5.65945945945946, 5.508108108108108, 7.708108108108108, 6.113513513513514, 6.243243243243243, 2.5891891891891894]] \n",
      "\n",
      "------Iteration  7 ---------\n",
      "Centroids are : [[3.0249307479224377, 1.2853185595567866, 1.4182825484764543, 1.3157894736842106, 2.0498614958448753, 1.2825484764542936, 2.110803324099723, 1.2299168975069252, 1.0886426592797784], [7.172972972972973, 6.772972972972973, 6.686486486486486, 5.65945945945946, 5.508108108108108, 7.708108108108108, 6.113513513513514, 6.243243243243243, 2.5891891891891894]] \n",
      "\n",
      "------Iteration  8 ---------\n",
      "Centroids are : [[3.0249307479224377, 1.2853185595567866, 1.4182825484764543, 1.3157894736842106, 2.0498614958448753, 1.2825484764542936, 2.110803324099723, 1.2299168975069252, 1.0886426592797784], [7.172972972972973, 6.772972972972973, 6.686486486486486, 5.65945945945946, 5.508108108108108, 7.708108108108108, 6.113513513513514, 6.243243243243243, 2.5891891891891894]] \n",
      "\n",
      "------Iteration  9 ---------\n",
      "Centroids are : [[3.0249307479224377, 1.2853185595567866, 1.4182825484764543, 1.3157894736842106, 2.0498614958448753, 1.2825484764542936, 2.110803324099723, 1.2299168975069252, 1.0886426592797784], [7.172972972972973, 6.772972972972973, 6.686486486486486, 5.65945945945946, 5.508108108108108, 7.708108108108108, 6.113513513513514, 6.243243243243243, 2.5891891891891894]] \n",
      "\n",
      "------Iteration  10 ---------\n",
      "Centroids are : [[3.0249307479224377, 1.2853185595567866, 1.4182825484764543, 1.3157894736842106, 2.0498614958448753, 1.2825484764542936, 2.110803324099723, 1.2299168975069252, 1.0886426592797784], [7.172972972972973, 6.772972972972973, 6.686486486486486, 5.65945945945946, 5.508108108108108, 7.708108108108108, 6.113513513513514, 6.243243243243243, 2.5891891891891894]] \n",
      "\n"
     ]
    }
   ],
   "source": [
    "pred1 = model1.fit(x_train)\n",
    "pred2 = model2.fit(x_train)\n",
    "pred3 = model3.fit(x_train)"
   ]
  },
  {
   "cell_type": "code",
   "execution_count": null,
   "metadata": {},
   "outputs": [
    {
     "data": {
      "application/vnd.google.colaboratory.intrinsic+json": {
       "type": "string"
      },
      "text/plain": [
       "'Accuracy is : 96.7032967032967 %'"
      ]
     },
     "metadata": {},
     "output_type": "display_data"
    }
   ],
   "source": [
    "model1.score(pred1, y_train)"
   ]
  },
  {
   "cell_type": "code",
   "execution_count": null,
   "metadata": {},
   "outputs": [
    {
     "data": {
      "application/vnd.google.colaboratory.intrinsic+json": {
       "type": "string"
      },
      "text/plain": [
       "'Accuracy is : 97.06959706959707 %'"
      ]
     },
     "metadata": {},
     "output_type": "display_data"
    }
   ],
   "source": [
    "model2.score(pred2, y_train)"
   ]
  },
  {
   "cell_type": "code",
   "execution_count": null,
   "metadata": {},
   "outputs": [
    {
     "data": {
      "application/vnd.google.colaboratory.intrinsic+json": {
       "type": "string"
      },
      "text/plain": [
       "'Accuracy is : 97.06959706959707 %'"
      ]
     },
     "metadata": {},
     "output_type": "display_data"
    }
   ],
   "source": [
    "model3.score(pred3, y_train)"
   ]
  },
  {
   "cell_type": "markdown",
   "metadata": {},
   "source": [
    "# Conclusion: \n",
    "Changing the starting centers does not affect the algorithm in any way since the accuracy is same for all 3 models. The model will converge to its ideal state regardless of the starting centroid"
   ]
  },
  {
   "cell_type": "markdown",
   "metadata": {},
   "source": [
    "#Now we Check if using Supervised techniques gives different results or not"
   ]
  },
  {
   "cell_type": "markdown",
   "metadata": {},
   "source": [
    "# Loading Logistic Regression and Knearest Neighbour Models"
   ]
  },
  {
   "cell_type": "code",
   "execution_count": null,
   "metadata": {},
   "outputs": [],
   "source": [
    "from sklearn.linear_model import LogisticRegression\n",
    "from sklearn.neighbors import KNeighborsClassifier"
   ]
  },
  {
   "cell_type": "code",
   "execution_count": null,
   "metadata": {},
   "outputs": [],
   "source": [
    "models = [LogisticRegression(random_state=0), KNeighborsClassifier()]"
   ]
  },
  {
   "cell_type": "code",
   "execution_count": null,
   "metadata": {},
   "outputs": [
    {
     "name": "stdout",
     "output_type": "stream",
     "text": [
      "Accuracy of model LogisticRegression(random_state=0) is : 0.9562043795620438\n",
      "Accuracy of model KNeighborsClassifier() is : 0.9708029197080292\n"
     ]
    }
   ],
   "source": [
    "for model in models:\n",
    "    model.fit(x_train,y_train)\n",
    "    print('Accuracy of model', model, 'is :', model.score(x_test, y_test))"
   ]
  },
  {
   "cell_type": "markdown",
   "metadata": {},
   "source": [
    "# Conclusion:\n",
    "Supervised Models perform similiarly to unsupervised techniques for this problem"
   ]
  }
 ],
 "metadata": {
  "language_info": {
   "name": "python"
  }
 },
 "nbformat": 4,
 "nbformat_minor": 2
}
